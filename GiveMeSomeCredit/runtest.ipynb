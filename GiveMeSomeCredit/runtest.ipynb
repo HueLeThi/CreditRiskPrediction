{
 "cells": [
  {
   "cell_type": "code",
   "execution_count": 2,
   "id": "922bab07",
   "metadata": {},
   "outputs": [
    {
     "data": {
      "text/html": [
       "<div>\n",
       "<style scoped>\n",
       "    .dataframe tbody tr th:only-of-type {\n",
       "        vertical-align: middle;\n",
       "    }\n",
       "\n",
       "    .dataframe tbody tr th {\n",
       "        vertical-align: top;\n",
       "    }\n",
       "\n",
       "    .dataframe thead th {\n",
       "        text-align: right;\n",
       "    }\n",
       "</style>\n",
       "<table border=\"1\" class=\"dataframe\">\n",
       "  <thead>\n",
       "    <tr style=\"text-align: right;\">\n",
       "      <th></th>\n",
       "      <th>Unnamed: 0</th>\n",
       "      <th>SeriousDlqin2yrs</th>\n",
       "      <th>RevolvingUtilizationOfUnsecuredLines</th>\n",
       "      <th>age</th>\n",
       "      <th>NumberOfTime30-59DaysPastDueNotWorse</th>\n",
       "      <th>DebtRatio</th>\n",
       "      <th>MonthlyIncome</th>\n",
       "      <th>NumberOfOpenCreditLinesAndLoans</th>\n",
       "      <th>NumberOfTimes90DaysLate</th>\n",
       "      <th>NumberRealEstateLoansOrLines</th>\n",
       "      <th>NumberOfTime60-89DaysPastDueNotWorse</th>\n",
       "      <th>NumberOfDependents</th>\n",
       "    </tr>\n",
       "  </thead>\n",
       "  <tbody>\n",
       "    <tr>\n",
       "      <th>0</th>\n",
       "      <td>1</td>\n",
       "      <td>NaN</td>\n",
       "      <td>0.885519</td>\n",
       "      <td>43</td>\n",
       "      <td>0</td>\n",
       "      <td>0.177513</td>\n",
       "      <td>5700.0</td>\n",
       "      <td>4</td>\n",
       "      <td>0</td>\n",
       "      <td>0</td>\n",
       "      <td>0</td>\n",
       "      <td>0.0</td>\n",
       "    </tr>\n",
       "    <tr>\n",
       "      <th>1</th>\n",
       "      <td>2</td>\n",
       "      <td>NaN</td>\n",
       "      <td>0.463295</td>\n",
       "      <td>57</td>\n",
       "      <td>0</td>\n",
       "      <td>0.527237</td>\n",
       "      <td>9141.0</td>\n",
       "      <td>15</td>\n",
       "      <td>0</td>\n",
       "      <td>4</td>\n",
       "      <td>0</td>\n",
       "      <td>2.0</td>\n",
       "    </tr>\n",
       "    <tr>\n",
       "      <th>2</th>\n",
       "      <td>3</td>\n",
       "      <td>NaN</td>\n",
       "      <td>0.043275</td>\n",
       "      <td>59</td>\n",
       "      <td>0</td>\n",
       "      <td>0.687648</td>\n",
       "      <td>5083.0</td>\n",
       "      <td>12</td>\n",
       "      <td>0</td>\n",
       "      <td>1</td>\n",
       "      <td>0</td>\n",
       "      <td>2.0</td>\n",
       "    </tr>\n",
       "    <tr>\n",
       "      <th>3</th>\n",
       "      <td>4</td>\n",
       "      <td>NaN</td>\n",
       "      <td>0.280308</td>\n",
       "      <td>38</td>\n",
       "      <td>1</td>\n",
       "      <td>0.925961</td>\n",
       "      <td>3200.0</td>\n",
       "      <td>7</td>\n",
       "      <td>0</td>\n",
       "      <td>2</td>\n",
       "      <td>0</td>\n",
       "      <td>0.0</td>\n",
       "    </tr>\n",
       "    <tr>\n",
       "      <th>4</th>\n",
       "      <td>5</td>\n",
       "      <td>NaN</td>\n",
       "      <td>1.000000</td>\n",
       "      <td>27</td>\n",
       "      <td>0</td>\n",
       "      <td>0.019917</td>\n",
       "      <td>3865.0</td>\n",
       "      <td>4</td>\n",
       "      <td>0</td>\n",
       "      <td>0</td>\n",
       "      <td>0</td>\n",
       "      <td>1.0</td>\n",
       "    </tr>\n",
       "  </tbody>\n",
       "</table>\n",
       "</div>"
      ],
      "text/plain": [
       "   Unnamed: 0  SeriousDlqin2yrs  RevolvingUtilizationOfUnsecuredLines  age  \\\n",
       "0           1               NaN                              0.885519   43   \n",
       "1           2               NaN                              0.463295   57   \n",
       "2           3               NaN                              0.043275   59   \n",
       "3           4               NaN                              0.280308   38   \n",
       "4           5               NaN                              1.000000   27   \n",
       "\n",
       "   NumberOfTime30-59DaysPastDueNotWorse  DebtRatio  MonthlyIncome  \\\n",
       "0                                     0   0.177513         5700.0   \n",
       "1                                     0   0.527237         9141.0   \n",
       "2                                     0   0.687648         5083.0   \n",
       "3                                     1   0.925961         3200.0   \n",
       "4                                     0   0.019917         3865.0   \n",
       "\n",
       "   NumberOfOpenCreditLinesAndLoans  NumberOfTimes90DaysLate  \\\n",
       "0                                4                        0   \n",
       "1                               15                        0   \n",
       "2                               12                        0   \n",
       "3                                7                        0   \n",
       "4                                4                        0   \n",
       "\n",
       "   NumberRealEstateLoansOrLines  NumberOfTime60-89DaysPastDueNotWorse  \\\n",
       "0                             0                                     0   \n",
       "1                             4                                     0   \n",
       "2                             1                                     0   \n",
       "3                             2                                     0   \n",
       "4                             0                                     0   \n",
       "\n",
       "   NumberOfDependents  \n",
       "0                 0.0  \n",
       "1                 2.0  \n",
       "2                 2.0  \n",
       "3                 0.0  \n",
       "4                 1.0  "
      ]
     },
     "execution_count": 2,
     "metadata": {},
     "output_type": "execute_result"
    }
   ],
   "source": [
    "import pandas as pd\n",
    "df=pd.read_csv(r'C:\\Users\\admin\\Documents\\PREPARATION\\GiveMeSomeCredit\\cs-test.csv')\n",
    "df.head()"
   ]
  },
  {
   "cell_type": "code",
   "execution_count": 2,
   "id": "200320ce",
   "metadata": {},
   "outputs": [
    {
     "data": {
      "text/plain": [
       "Unnamed: 0                                   0\n",
       "SeriousDlqin2yrs                        101503\n",
       "RevolvingUtilizationOfUnsecuredLines         0\n",
       "age                                          0\n",
       "NumberOfTime30-59DaysPastDueNotWorse         0\n",
       "DebtRatio                                    0\n",
       "MonthlyIncome                            20103\n",
       "NumberOfOpenCreditLinesAndLoans              0\n",
       "NumberOfTimes90DaysLate                      0\n",
       "NumberRealEstateLoansOrLines                 0\n",
       "NumberOfTime60-89DaysPastDueNotWorse         0\n",
       "NumberOfDependents                        2626\n",
       "dtype: int64"
      ]
     },
     "execution_count": 2,
     "metadata": {},
     "output_type": "execute_result"
    }
   ],
   "source": [
    "df.isnull().sum()"
   ]
  },
  {
   "cell_type": "code",
   "execution_count": 3,
   "id": "e987b753",
   "metadata": {},
   "outputs": [
    {
     "name": "stdout",
     "output_type": "stream",
     "text": [
      "<class 'pandas.core.frame.DataFrame'>\n",
      "RangeIndex: 101503 entries, 0 to 101502\n",
      "Data columns (total 12 columns):\n",
      " #   Column                                Non-Null Count   Dtype  \n",
      "---  ------                                --------------   -----  \n",
      " 0   Unnamed: 0                            101503 non-null  int64  \n",
      " 1   SeriousDlqin2yrs                      0 non-null       float64\n",
      " 2   RevolvingUtilizationOfUnsecuredLines  101503 non-null  float64\n",
      " 3   age                                   101503 non-null  int64  \n",
      " 4   NumberOfTime30-59DaysPastDueNotWorse  101503 non-null  int64  \n",
      " 5   DebtRatio                             101503 non-null  float64\n",
      " 6   MonthlyIncome                         81400 non-null   float64\n",
      " 7   NumberOfOpenCreditLinesAndLoans       101503 non-null  int64  \n",
      " 8   NumberOfTimes90DaysLate               101503 non-null  int64  \n",
      " 9   NumberRealEstateLoansOrLines          101503 non-null  int64  \n",
      " 10  NumberOfTime60-89DaysPastDueNotWorse  101503 non-null  int64  \n",
      " 11  NumberOfDependents                    98877 non-null   float64\n",
      "dtypes: float64(5), int64(7)\n",
      "memory usage: 9.3 MB\n"
     ]
    }
   ],
   "source": [
    "df.info()"
   ]
  },
  {
   "cell_type": "code",
   "execution_count": 6,
   "id": "93002f23",
   "metadata": {},
   "outputs": [
    {
     "data": {
      "text/plain": [
       "0           (37.6, 54.2]\n",
       "1           (54.2, 70.8]\n",
       "2           (54.2, 70.8]\n",
       "3           (37.6, 54.2]\n",
       "4         (20.917, 37.6]\n",
       "               ...      \n",
       "101498    (20.917, 37.6]\n",
       "101499    (20.917, 37.6]\n",
       "101500      (54.2, 70.8]\n",
       "101501      (54.2, 70.8]\n",
       "101502    (20.917, 37.6]\n",
       "Name: age, Length: 101503, dtype: category\n",
       "Categories (5, interval[float64, right]): [(20.917, 37.6] < (37.6, 54.2] < (54.2, 70.8] < (70.8, 87.4] < (87.4, 104.0]]"
      ]
     },
     "execution_count": 6,
     "metadata": {},
     "output_type": "execute_result"
    }
   ],
   "source": [
    "age_bins = pd.cut(df['age'], bins=5)\n",
    "age_bins"
   ]
  },
  {
   "cell_type": "code",
   "execution_count": 7,
   "id": "ade1fc61",
   "metadata": {},
   "outputs": [
    {
     "name": "stderr",
     "output_type": "stream",
     "text": [
      "C:\\Users\\admin\\AppData\\Local\\Temp\\ipykernel_22380\\3238020934.py:2: FutureWarning: The default of observed=False is deprecated and will be changed to True in a future version of pandas. Pass observed=False to retain current behavior or observed=True to adopt the future default and silence this warning.\n",
      "  df['NumberOfDependents'] = df.groupby(age_bins)['NumberOfDependents'].transform(lambda x:x.fillna(x.median()))\n"
     ]
    }
   ],
   "source": [
    "df['NumberOfDependents_missing'] = df['NumberOfDependents'].isnull().astype(int)\n",
    "df['NumberOfDependents'] = df.groupby(age_bins)['NumberOfDependents'].transform(lambda x:x.fillna(x.median()))"
   ]
  },
  {
   "cell_type": "code",
   "execution_count": 8,
   "id": "78c1ea58",
   "metadata": {},
   "outputs": [
    {
     "name": "stderr",
     "output_type": "stream",
     "text": [
      "C:\\Users\\admin\\AppData\\Local\\Temp\\ipykernel_22380\\3521791555.py:2: FutureWarning: The default of observed=False is deprecated and will be changed to True in a future version of pandas. Pass observed=False to retain current behavior or observed=True to adopt the future default and silence this warning.\n",
      "  df['MonthlyIncome'] = df.groupby(age_bins)['MonthlyIncome'].transform(lambda x:x.fillna(x.median()))\n"
     ]
    }
   ],
   "source": [
    "df['MonthlyIncome_missing'] = df['MonthlyIncome'].isnull().astype(int)\n",
    "df['MonthlyIncome'] = df.groupby(age_bins)['MonthlyIncome'].transform(lambda x:x.fillna(x.median()))"
   ]
  },
  {
   "cell_type": "code",
   "execution_count": 9,
   "id": "6c862ccf",
   "metadata": {},
   "outputs": [],
   "source": [
    "df_test = df.drop(columns=['SeriousDlqin2yrs'])"
   ]
  },
  {
   "cell_type": "code",
   "execution_count": 11,
   "id": "e8398c63",
   "metadata": {},
   "outputs": [],
   "source": [
    "# Tổng số lần trễ hạn\n",
    "df_test['TotalDelinquency'] = (\n",
    "    df_test['NumberOfTime30-59DaysPastDueNotWorse'] +\n",
    "    df_test['NumberOfTime60-89DaysPastDueNotWorse'] +\n",
    "    df_test['NumberOfTimes90DaysLate']\n",
    ")"
   ]
  },
  {
   "cell_type": "code",
   "execution_count": 13,
   "id": "7b0024c5",
   "metadata": {},
   "outputs": [
    {
     "name": "stdout",
     "output_type": "stream",
     "text": [
      " Đã tạo file submission.csv để nộp lên Kaggle\n"
     ]
    }
   ],
   "source": [
    "import joblib\n",
    "df_test['Id'] = range(1, len(df_test) + 1)\n",
    "X_test = df_test.drop(columns=['Id'])\n",
    "\n",
    "# Load mô hình\n",
    "model = joblib.load('xgb_model.pkl')\n",
    "\n",
    "# Predict xác suất\n",
    "y_test_proba = model.predict_proba(X_test)[:, 1]\n",
    "\n",
    "# Tạo file submit\n",
    "submission = pd.DataFrame({\n",
    "    'Id': df_test['Id'],\n",
    "    'Probability': y_test_proba\n",
    "})\n",
    "submission.to_csv(\"submission.csv\", index=False)\n",
    "print(\" Đã tạo file submission.csv để nộp lên Kaggle\")"
   ]
  }
 ],
 "metadata": {
  "kernelspec": {
   "display_name": "base",
   "language": "python",
   "name": "python3"
  },
  "language_info": {
   "codemirror_mode": {
    "name": "ipython",
    "version": 3
   },
   "file_extension": ".py",
   "mimetype": "text/x-python",
   "name": "python",
   "nbconvert_exporter": "python",
   "pygments_lexer": "ipython3",
   "version": "3.12.7"
  }
 },
 "nbformat": 4,
 "nbformat_minor": 5
}
