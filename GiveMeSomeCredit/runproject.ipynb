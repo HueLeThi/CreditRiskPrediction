{
 "cells": [
  {
   "cell_type": "code",
   "execution_count": 1,
   "id": "c8988e03",
   "metadata": {},
   "outputs": [
    {
     "name": "stdout",
     "output_type": "stream",
     "text": [
      "Requirement already satisfied: xlrd in c:\\users\\admin\\anaconda3\\envs\\churn_env\\lib\\site-packages (2.0.2)\n"
     ]
    }
   ],
   "source": [
    "!pip install xlrd"
   ]
  },
  {
   "cell_type": "code",
   "execution_count": 2,
   "id": "bf35c67d",
   "metadata": {},
   "outputs": [],
   "source": [
    "import pandas as pd"
   ]
  },
  {
   "cell_type": "code",
   "execution_count": 3,
   "id": "89580fe9",
   "metadata": {},
   "outputs": [
    {
     "name": "stdout",
     "output_type": "stream",
     "text": [
      "<class 'pandas.core.frame.DataFrame'>\n",
      "RangeIndex: 150000 entries, 0 to 149999\n",
      "Data columns (total 12 columns):\n",
      " #   Column                                Non-Null Count   Dtype  \n",
      "---  ------                                --------------   -----  \n",
      " 0   Unnamed: 0                            150000 non-null  int64  \n",
      " 1   SeriousDlqin2yrs                      150000 non-null  int64  \n",
      " 2   RevolvingUtilizationOfUnsecuredLines  150000 non-null  float64\n",
      " 3   age                                   150000 non-null  int64  \n",
      " 4   NumberOfTime30-59DaysPastDueNotWorse  150000 non-null  int64  \n",
      " 5   DebtRatio                             150000 non-null  float64\n",
      " 6   MonthlyIncome                         120269 non-null  float64\n",
      " 7   NumberOfOpenCreditLinesAndLoans       150000 non-null  int64  \n",
      " 8   NumberOfTimes90DaysLate               150000 non-null  int64  \n",
      " 9   NumberRealEstateLoansOrLines          150000 non-null  int64  \n",
      " 10  NumberOfTime60-89DaysPastDueNotWorse  150000 non-null  int64  \n",
      " 11  NumberOfDependents                    146076 non-null  float64\n",
      "dtypes: float64(4), int64(8)\n",
      "memory usage: 13.7 MB\n"
     ]
    }
   ],
   "source": [
    "training=pd.read_csv(r'C:\\Users\\admin\\Documents\\PREPARATION\\GiveMeSomeCredit\\cs-training.csv')\n",
    "training.head(3)\n",
    "training.info()"
   ]
  },
  {
   "cell_type": "code",
   "execution_count": 4,
   "id": "f3457b39",
   "metadata": {},
   "outputs": [
    {
     "data": {
      "text/plain": [
       "0         (43.6, 65.4]\n",
       "1         (21.8, 43.6]\n",
       "2         (21.8, 43.6]\n",
       "3         (21.8, 43.6]\n",
       "4         (43.6, 65.4]\n",
       "              ...     \n",
       "149995    (65.4, 87.2]\n",
       "149996    (43.6, 65.4]\n",
       "149997    (43.6, 65.4]\n",
       "149998    (21.8, 43.6]\n",
       "149999    (43.6, 65.4]\n",
       "Name: age, Length: 150000, dtype: category\n",
       "Categories (5, interval[float64, right]): [(-0.109, 21.8] < (21.8, 43.6] < (43.6, 65.4] < (65.4, 87.2] < (87.2, 109.0]]"
      ]
     },
     "execution_count": 4,
     "metadata": {},
     "output_type": "execute_result"
    }
   ],
   "source": [
    "age_bins = pd.cut(training['age'], bins=5)\n",
    "age_bins"
   ]
  },
  {
   "cell_type": "code",
   "execution_count": 5,
   "id": "fd6b97f8",
   "metadata": {},
   "outputs": [
    {
     "name": "stderr",
     "output_type": "stream",
     "text": [
      "C:\\Users\\admin\\AppData\\Local\\Temp\\ipykernel_22952\\1544995388.py:2: FutureWarning: The default of observed=False is deprecated and will be changed to True in a future version of pandas. Pass observed=False to retain current behavior or observed=True to adopt the future default and silence this warning.\n",
      "  training['NumberOfDependents'] = training.groupby(age_bins)['NumberOfDependents'].transform(lambda x:x.fillna(x.median()))\n"
     ]
    }
   ],
   "source": [
    "training['NumberOfDependents_missing'] = training['NumberOfDependents'].isnull().astype(int)\n",
    "training['NumberOfDependents'] = training.groupby(age_bins)['NumberOfDependents'].transform(lambda x:x.fillna(x.median()))"
   ]
  },
  {
   "cell_type": "code",
   "execution_count": 6,
   "id": "4eda569a",
   "metadata": {},
   "outputs": [
    {
     "name": "stderr",
     "output_type": "stream",
     "text": [
      "C:\\Users\\admin\\AppData\\Local\\Temp\\ipykernel_22952\\1240742365.py:2: FutureWarning: The default of observed=False is deprecated and will be changed to True in a future version of pandas. Pass observed=False to retain current behavior or observed=True to adopt the future default and silence this warning.\n",
      "  training['MonthlyIncome'] = training.groupby(age_bins)['MonthlyIncome'].transform(lambda x:x.fillna(x.median()))\n"
     ]
    }
   ],
   "source": [
    "training['MonthlyIncome_missing'] = training['MonthlyIncome'].isnull().astype(int)\n",
    "training['MonthlyIncome'] = training.groupby(age_bins)['MonthlyIncome'].transform(lambda x:x.fillna(x.median()))"
   ]
  },
  {
   "cell_type": "code",
   "execution_count": 7,
   "id": "dca73de1",
   "metadata": {},
   "outputs": [],
   "source": [
    "# Tổng số lần trễ hạn\n",
    "training['TotalDelinquency'] = (\n",
    "    training['NumberOfTime30-59DaysPastDueNotWorse'] +\n",
    "    training['NumberOfTime60-89DaysPastDueNotWorse'] +\n",
    "    training['NumberOfTimes90DaysLate']\n",
    ")"
   ]
  },
  {
   "cell_type": "code",
   "execution_count": 8,
   "id": "273a1f1b",
   "metadata": {},
   "outputs": [
    {
     "data": {
      "text/plain": [
       "SeriousDlqin2yrs\n",
       "0    0.93316\n",
       "1    0.06684\n",
       "Name: proportion, dtype: float64"
      ]
     },
     "execution_count": 8,
     "metadata": {},
     "output_type": "execute_result"
    }
   ],
   "source": [
    "training['SeriousDlqin2yrs'].value_counts(normalize=True)"
   ]
  },
  {
   "cell_type": "code",
   "execution_count": 9,
   "id": "4e03242e",
   "metadata": {},
   "outputs": [],
   "source": [
    "# Xác định biến mục tiêu và đặc trưng\n",
    "X = training.drop('SeriousDlqin2yrs', axis=1)\n",
    "y = training['SeriousDlqin2yrs']\n",
    "\n",
    "# 1.4 Chia train/test, giữ tỷ lệ lớp (stratify)\n",
    "from sklearn.model_selection import train_test_split\n",
    "\n",
    "X_train, X_test, y_train, y_test = train_test_split(\n",
    "    X, y, test_size=0.2, stratify=y, random_state=42\n",
    ")"
   ]
  },
  {
   "cell_type": "code",
   "execution_count": 13,
   "id": "e9fac37e",
   "metadata": {},
   "outputs": [
    {
     "name": "stdout",
     "output_type": "stream",
     "text": [
      "              precision    recall  f1-score   support\n",
      "\n",
      "           0       0.96      0.94      0.95     27995\n",
      "           1       0.34      0.44      0.38      2005\n",
      "\n",
      "    accuracy                           0.90     30000\n",
      "   macro avg       0.65      0.69      0.67     30000\n",
      "weighted avg       0.92      0.90      0.91     30000\n",
      "\n",
      "ROC AUC: 0.8367716269248295\n"
     ]
    }
   ],
   "source": [
    "from imblearn.over_sampling import SMOTE\n",
    "from sklearn.ensemble import RandomForestClassifier\n",
    "from sklearn.metrics import classification_report, roc_auc_score\n",
    "\n",
    "# SMOTE áp dụng trên dữ liệu chưa scale\n",
    "sm = SMOTE(random_state=42)\n",
    "X_train_res, y_train_res = sm.fit_resample(X_train, y_train)\n",
    "\n",
    "# Huấn luyện lại model\n",
    "model = RandomForestClassifier(random_state=42)\n",
    "model.fit(X_train_res, y_train_res)\n",
    "\n",
    "# Dự đoán\n",
    "y_pred = model.predict(X_test)\n",
    "y_proba = model.predict_proba(X_test)[:, 1]\n",
    "\n",
    "# Đánh giá\n",
    "print(classification_report(y_test, y_pred))\n",
    "print(\"ROC AUC:\", roc_auc_score(y_test, y_proba))\n"
   ]
  },
  {
   "cell_type": "code",
   "execution_count": 15,
   "id": "c61a5c29",
   "metadata": {},
   "outputs": [
    {
     "name": "stderr",
     "output_type": "stream",
     "text": [
      "c:\\Users\\admin\\anaconda3\\envs\\churn_env\\lib\\site-packages\\xgboost\\training.py:183: UserWarning: [23:08:03] WARNING: C:\\actions-runner\\_work\\xgboost\\xgboost\\src\\learner.cc:738: \n",
      "Parameters: { \"use_label_encoder\" } are not used.\n",
      "\n",
      "  bst.update(dtrain, iteration=i, fobj=obj)\n"
     ]
    },
    {
     "name": "stdout",
     "output_type": "stream",
     "text": [
      "              precision    recall  f1-score   support\n",
      "\n",
      "           0       0.96      0.94      0.95     27995\n",
      "           1       0.38      0.52      0.44      2005\n",
      "\n",
      "    accuracy                           0.91     30000\n",
      "   macro avg       0.67      0.73      0.70     30000\n",
      "weighted avg       0.93      0.91      0.92     30000\n",
      "\n",
      "ROC AUC: 0.8617370576060296\n"
     ]
    }
   ],
   "source": [
    "import xgboost as xgb\n",
    "from sklearn.metrics import classification_report, roc_auc_score\n",
    "import joblib \n",
    "\n",
    "# Tính tỷ lệ mất cân bằng\n",
    "scale_pos_weight = y_train.value_counts()[0] / y_train.value_counts()[1]\n",
    "\n",
    "# Khởi tạo mô hình XGBoost\n",
    "model = xgb.XGBClassifier(\n",
    "    use_label_encoder=False,\n",
    "    eval_metric='logloss',\n",
    "    scale_pos_weight=scale_pos_weight,\n",
    "    max_depth=5,\n",
    "    n_estimators=300,\n",
    "    learning_rate=0.1,\n",
    "    random_state=42\n",
    ")\n",
    "\n",
    "# Train\n",
    "model.fit(X_train, y_train)\n",
    "joblib.dump(model, 'xgb_model.pkl')\n",
    "\n",
    "# Dự đoán\n",
    "y_proba = model.predict_proba(X_test)[:, 1]\n",
    "y_pred_custom = (y_proba >= 0.75).astype(int)\n",
    "\n",
    "# Đánh giá\n",
    "from sklearn.metrics import classification_report, roc_auc_score\n",
    "print(classification_report(y_test, y_pred_custom))\n",
    "print(\"ROC AUC:\", roc_auc_score(y_test, y_proba))\n"
   ]
  }
 ],
 "metadata": {
  "kernelspec": {
   "display_name": "churn_env",
   "language": "python",
   "name": "python3"
  },
  "language_info": {
   "codemirror_mode": {
    "name": "ipython",
    "version": 3
   },
   "file_extension": ".py",
   "mimetype": "text/x-python",
   "name": "python",
   "nbconvert_exporter": "python",
   "pygments_lexer": "ipython3",
   "version": "3.10.18"
  }
 },
 "nbformat": 4,
 "nbformat_minor": 5
}
